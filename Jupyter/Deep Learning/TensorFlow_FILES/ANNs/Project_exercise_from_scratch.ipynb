{
 "cells": [
  {
   "cell_type": "code",
   "execution_count": null,
   "metadata": {},
   "outputs": [],
   "source": [
    "import pandas as pd\n",
    "import numpy as np\n",
    "import matplotlib.pyplot as plt\n",
    "import seaborn as sns\n",
    "import plotly_express as px"
   ]
  },
  {
   "cell_type": "markdown",
   "metadata": {},
   "source": [
    "----\n",
    "-----\n",
    "There are many LendingClub data sets on Kaggle. Here is the information on this particular data set:\n",
    "\n",
    "<table border=\"1\" class=\"dataframe\">\n",
    "  <thead>\n",
    "    <tr style=\"text-align: right;\">\n",
    "      <th></th>\n",
    "      <th>LoanStatNew</th>\n",
    "      <th>Description</th>\n",
    "    </tr>\n",
    "  </thead>\n",
    "  <tbody>\n",
    "    <tr>\n",
    "      <th>0</th>\n",
    "      <td>loan_amnt</td>\n",
    "      <td>The listed amount of the loan applied for by the borrower. If at some point in time, the credit department reduces the loan amount, then it will be reflected in this value.</td>\n",
    "    </tr>\n",
    "    <tr>\n",
    "      <th>1</th>\n",
    "      <td>term</td>\n",
    "      <td>The number of payments on the loan. Values are in months and can be either 36 or 60.</td>\n",
    "    </tr>\n",
    "    <tr>\n",
    "      <th>2</th>\n",
    "      <td>int_rate</td>\n",
    "      <td>Interest Rate on the loan</td>\n",
    "    </tr>\n",
    "    <tr>\n",
    "      <th>3</th>\n",
    "      <td>installment</td>\n",
    "      <td>The monthly payment owed by the borrower if the loan originates.</td>\n",
    "    </tr>\n",
    "    <tr>\n",
    "      <th>4</th>\n",
    "      <td>grade</td>\n",
    "      <td>LC assigned loan grade</td>\n",
    "    </tr>\n",
    "    <tr>\n",
    "      <th>5</th>\n",
    "      <td>sub_grade</td>\n",
    "      <td>LC assigned loan subgrade</td>\n",
    "    </tr>\n",
    "    <tr>\n",
    "      <th>6</th>\n",
    "      <td>emp_title</td>\n",
    "      <td>The job title supplied by the Borrower when applying for the loan.*</td>\n",
    "    </tr>\n",
    "    <tr>\n",
    "      <th>7</th>\n",
    "      <td>emp_length</td>\n",
    "      <td>Employment length in years. Possible values are between 0 and 10 where 0 means less than one year and 10 means ten or more years.</td>\n",
    "    </tr>\n",
    "    <tr>\n",
    "      <th>8</th>\n",
    "      <td>home_ownership</td>\n",
    "      <td>The home ownership status provided by the borrower during registration or obtained from the credit report. Our values are: RENT, OWN, MORTGAGE, OTHER</td>\n",
    "    </tr>\n",
    "    <tr>\n",
    "      <th>9</th>\n",
    "      <td>annual_inc</td>\n",
    "      <td>The self-reported annual income provided by the borrower during registration.</td>\n",
    "    </tr>\n",
    "    <tr>\n",
    "      <th>10</th>\n",
    "      <td>verification_status</td>\n",
    "      <td>Indicates if income was verified by LC, not verified, or if the income source was verified</td>\n",
    "    </tr>\n",
    "    <tr>\n",
    "      <th>11</th>\n",
    "      <td>issue_d</td>\n",
    "      <td>The month which the loan was funded</td>\n",
    "    </tr>\n",
    "    <tr>\n",
    "      <th>12</th>\n",
    "      <td>loan_status</td>\n",
    "      <td>Current status of the loan</td>\n",
    "    </tr>\n",
    "    <tr>\n",
    "      <th>13</th>\n",
    "      <td>purpose</td>\n",
    "      <td>A category provided by the borrower for the loan request.</td>\n",
    "    </tr>\n",
    "    <tr>\n",
    "      <th>14</th>\n",
    "      <td>title</td>\n",
    "      <td>The loan title provided by the borrower</td>\n",
    "    </tr>\n",
    "    <tr>\n",
    "      <th>15</th>\n",
    "      <td>zip_code</td>\n",
    "      <td>The first 3 numbers of the zip code provided by the borrower in the loan application.</td>\n",
    "    </tr>\n",
    "    <tr>\n",
    "      <th>16</th>\n",
    "      <td>addr_state</td>\n",
    "      <td>The state provided by the borrower in the loan application</td>\n",
    "    </tr>\n",
    "    <tr>\n",
    "      <th>17</th>\n",
    "      <td>dti</td>\n",
    "      <td>A ratio calculated using the borrower’s total monthly debt payments on the total debt obligations, excluding mortgage and the requested LC loan, divided by the borrower’s self-reported monthly income.</td>\n",
    "    </tr>\n",
    "    <tr>\n",
    "      <th>18</th>\n",
    "      <td>earliest_cr_line</td>\n",
    "      <td>The month the borrower's earliest reported credit line was opened</td>\n",
    "    </tr>\n",
    "    <tr>\n",
    "      <th>19</th>\n",
    "      <td>open_acc</td>\n",
    "      <td>The number of open credit lines in the borrower's credit file.</td>\n",
    "    </tr>\n",
    "    <tr>\n",
    "      <th>20</th>\n",
    "      <td>pub_rec</td>\n",
    "      <td>Number of derogatory public records</td>\n",
    "    </tr>\n",
    "    <tr>\n",
    "      <th>21</th>\n",
    "      <td>revol_bal</td>\n",
    "      <td>Total credit revolving balance</td>\n",
    "    </tr>\n",
    "    <tr>\n",
    "      <th>22</th>\n",
    "      <td>revol_util</td>\n",
    "      <td>Revolving line utilization rate, or the amount of credit the borrower is using relative to all available revolving credit.</td>\n",
    "    </tr>\n",
    "    <tr>\n",
    "      <th>23</th>\n",
    "      <td>total_acc</td>\n",
    "      <td>The total number of credit lines currently in the borrower's credit file</td>\n",
    "    </tr>\n",
    "    <tr>\n",
    "      <th>24</th>\n",
    "      <td>initial_list_status</td>\n",
    "      <td>The initial listing status of the loan. Possible values are – W, F</td>\n",
    "    </tr>\n",
    "    <tr>\n",
    "      <th>25</th>\n",
    "      <td>application_type</td>\n",
    "      <td>Indicates whether the loan is an individual application or a joint application with two co-borrowers</td>\n",
    "    </tr>\n",
    "    <tr>\n",
    "      <th>26</th>\n",
    "      <td>mort_acc</td>\n",
    "      <td>Number of mortgage accounts.</td>\n",
    "    </tr>\n",
    "    <tr>\n",
    "      <th>27</th>\n",
    "      <td>pub_rec_bankruptcies</td>\n",
    "      <td>Number of public record bankruptcies</td>\n",
    "    </tr>\n",
    "  </tbody>\n",
    "</table>\n",
    "\n",
    "---\n",
    "----"
   ]
  },
  {
   "cell_type": "code",
   "execution_count": null,
   "metadata": {},
   "outputs": [],
   "source": [
    "#lending_club_info = pd.read_csv(\"../DATA/lending_club_info.csv\")"
   ]
  },
  {
   "cell_type": "code",
   "execution_count": null,
   "metadata": {},
   "outputs": [],
   "source": [
    "#lending_club_info"
   ]
  },
  {
   "cell_type": "code",
   "execution_count": null,
   "metadata": {},
   "outputs": [],
   "source": [
    "df = pd.read_csv(\"../DATA/lending_club_loan_two.csv\")"
   ]
  },
  {
   "cell_type": "code",
   "execution_count": null,
   "metadata": {},
   "outputs": [],
   "source": [
    "df.head().transpose()"
   ]
  },
  {
   "cell_type": "markdown",
   "metadata": {},
   "source": [
    "# EDA"
   ]
  },
  {
   "cell_type": "code",
   "execution_count": null,
   "metadata": {},
   "outputs": [],
   "source": [
    "df.info()"
   ]
  },
  {
   "cell_type": "code",
   "execution_count": null,
   "metadata": {},
   "outputs": [],
   "source": [
    "df.describe()"
   ]
  },
  {
   "cell_type": "code",
   "execution_count": null,
   "metadata": {},
   "outputs": [],
   "source": [
    "px.histogram(df, x=\"loan_status\")"
   ]
  },
  {
   "cell_type": "code",
   "execution_count": null,
   "metadata": {},
   "outputs": [],
   "source": [
    "px.histogram(df, color=\"loan_status\", x=\"annual_inc\", nbins=100)"
   ]
  },
  {
   "cell_type": "code",
   "execution_count": null,
   "metadata": {},
   "outputs": [],
   "source": [
    "# The graph above shows us that there is a strong disparitu regarding the annual income. Let's look at it deeper."
   ]
  },
  {
   "cell_type": "code",
   "execution_count": null,
   "metadata": {},
   "outputs": [],
   "source": [
    "px.box(df, x=\"loan_status\", y=\"annual_inc\")"
   ]
  },
  {
   "cell_type": "code",
   "execution_count": null,
   "metadata": {},
   "outputs": [],
   "source": [
    "px.histogram(df[df[\"annual_inc\"] < 1000000], color=\"loan_status\", x=\"annual_inc\", nbins=100)"
   ]
  },
  {
   "cell_type": "code",
   "execution_count": null,
   "metadata": {},
   "outputs": [],
   "source": [
    "px.box(df[df[\"annual_inc\"] < 1000000], x=\"loan_status\", y=\"annual_inc\")"
   ]
  },
  {
   "cell_type": "code",
   "execution_count": null,
   "metadata": {},
   "outputs": [],
   "source": [
    "# What about the richest ?"
   ]
  },
  {
   "cell_type": "code",
   "execution_count": null,
   "metadata": {},
   "outputs": [],
   "source": [
    "px.histogram(df[df[\"annual_inc\"] >= 1000000], color=\"loan_status\", x=\"annual_inc\", nbins=100)"
   ]
  },
  {
   "cell_type": "markdown",
   "metadata": {},
   "source": [
    "<a id='remove_high_incomes'></a>\n",
    "note:"
   ]
  },
  {
   "cell_type": "code",
   "execution_count": null,
   "metadata": {},
   "outputs": [],
   "source": [
    "# We may want to remove theses extreme annual income as there are few and may add noise to the model,\n",
    "#despite the fact that there are information on loan status."
   ]
  },
  {
   "cell_type": "code",
   "execution_count": null,
   "metadata": {},
   "outputs": [],
   "source": [
    "px.histogram(df, x='loan_amnt', color='loan_status', nbins=50)"
   ]
  },
  {
   "cell_type": "code",
   "execution_count": null,
   "metadata": {},
   "outputs": [],
   "source": [
    "# It shows that there is a barrier at 35k, the bank may not give more than that often.\n",
    "#So the loan status over 45k should be better as we can imagine that the choice of the\n",
    "#bank to lend or not is more thoughtful."
   ]
  },
  {
   "cell_type": "code",
   "execution_count": null,
   "metadata": {},
   "outputs": [],
   "source": [
    "charged = df[df[\"loan_status\"] == \"Charged Off\"]\n",
    "\n",
    "nb_unpaid_above_35 = charged[\"loan_amnt\"][charged[\"loan_amnt\"] > 35000].count()\n",
    "total_above_35 = df[\"loan_amnt\"][df[\"loan_amnt\"] > 35000].count()\n",
    "nb_unpaid_below_35 =charged[\"loan_amnt\"][charged[\"loan_amnt\"] <= 35000].count()\n",
    "total_below_35 = df[\"loan_amnt\"][df[\"loan_amnt\"] <= 35000].count()\n",
    "unpaid_above_35 = nb_unpaid_above_35 / total_above_35 * 100\n",
    "unpaid_below_35 = nb_unpaid_below_35 / total_below_35 * 100\n",
    "\n",
    "print(\"% of unpaid, for loan amount above 35k: {:.2f}%\".format(unpaid_above_35))\n",
    "print(\"% of unpaid, for loan amount below 35k: {:.2f}%\".format(unpaid_below_35))"
   ]
  },
  {
   "cell_type": "code",
   "execution_count": null,
   "metadata": {},
   "outputs": [],
   "source": [
    "nb_unpaid_below_35"
   ]
  },
  {
   "cell_type": "code",
   "execution_count": null,
   "metadata": {},
   "outputs": [],
   "source": [
    "px.pie(values=[nb_unpaid_above_35, total_above_35], names=[\"Unpaid\",\"Paid\"],\n",
    "      title=\"Loan amount above 35k\")"
   ]
  },
  {
   "cell_type": "code",
   "execution_count": null,
   "metadata": {},
   "outputs": [],
   "source": [
    "px.pie(values=[nb_unpaid_below_35, total_below_35], names=[\"Unpaid\",\"Paid\"],\n",
    "      title=\"Loan amount below 35k\")"
   ]
  },
  {
   "cell_type": "code",
   "execution_count": null,
   "metadata": {},
   "outputs": [],
   "source": [
    "px.histogram(df, x='loan_amnt', color='loan_status', nbins=40, barnorm='percent')"
   ]
  },
  {
   "cell_type": "code",
   "execution_count": null,
   "metadata": {},
   "outputs": [],
   "source": [
    "# Hypothesis is not verified ! In fact I took 35k as a limit and indeed there are less charged_off because of \n",
    "#the ratio above 36k. But 35k is NOT the boundary. The graph below shows us that the boundary is 36k"
   ]
  },
  {
   "cell_type": "code",
   "execution_count": null,
   "metadata": {},
   "outputs": [],
   "source": [
    "px.scatter(df, x='annual_inc', y='loan_amnt', color='loan_status')"
   ]
  },
  {
   "cell_type": "code",
   "execution_count": null,
   "metadata": {},
   "outputs": [],
   "source": [
    "charged = df[df[\"loan_status\"] == \"Charged Off\"]\n",
    "\n",
    "print(\"% of unpaid, for incomes above 1M: {:.2f}%\".format(charged[\"annual_inc\"][charged[\"annual_inc\"] > 1000000].count() / df[\"annual_inc\"][df[\"annual_inc\"] > 1000000].count() * 100))\n",
    "print(\"% of unpaid, for incomes below 1M: {:.2f}%\".format(charged[\"annual_inc\"][charged[\"annual_inc\"] <= 1000000].count() / df[\"annual_inc\"][df[\"annual_inc\"] <= 1000000].count() * 100))"
   ]
  },
  {
   "cell_type": "code",
   "execution_count": null,
   "metadata": {},
   "outputs": [],
   "source": [
    "df[\"loan_status\"] = pd.get_dummies(df[\"loan_status\"], drop_first=True)[\"Fully Paid\"]"
   ]
  },
  {
   "cell_type": "code",
   "execution_count": null,
   "metadata": {},
   "outputs": [],
   "source": [
    "df[\"loan_status\"].head()"
   ]
  },
  {
   "cell_type": "code",
   "execution_count": null,
   "metadata": {},
   "outputs": [],
   "source": [
    "plt.figure(figsize=(16,6))\n",
    "sns.heatmap(df.corr(), annot=True)"
   ]
  },
  {
   "cell_type": "code",
   "execution_count": null,
   "metadata": {},
   "outputs": [],
   "source": [
    "data=df.corr()[\"loan_status\"].sort_values().plot(kind='bar')"
   ]
  },
  {
   "cell_type": "code",
   "execution_count": null,
   "metadata": {},
   "outputs": [],
   "source": [
    "# Nothing seems to be directly correlated with the output.\n",
    "#Attention: some features need to be converted to dummies to appears in corr() function"
   ]
  },
  {
   "cell_type": "code",
   "execution_count": null,
   "metadata": {},
   "outputs": [],
   "source": [
    "px.histogram(df, x=\"purpose\", color=\"loan_status\")"
   ]
  },
  {
   "cell_type": "code",
   "execution_count": null,
   "metadata": {},
   "outputs": [],
   "source": [
    "px.histogram(df, x=\"purpose\", color=\"loan_status\", barnorm='percent')"
   ]
  },
  {
   "cell_type": "code",
   "execution_count": null,
   "metadata": {},
   "outputs": [],
   "source": [
    "px.histogram(df, x=\"int_rate\", color=\"loan_status\", nbins=30)"
   ]
  },
  {
   "cell_type": "code",
   "execution_count": null,
   "metadata": {},
   "outputs": [],
   "source": [
    "px.histogram(df, x=\"int_rate\", color=\"loan_status\", nbins=30, barnorm=\"percent\")"
   ]
  },
  {
   "cell_type": "markdown",
   "metadata": {},
   "source": [
    "<a id='remove_int_rate'></a>\n",
    "note:"
   ]
  },
  {
   "cell_type": "code",
   "execution_count": null,
   "metadata": {},
   "outputs": [],
   "source": [
    "# The higher the interest rate, he higher the risk.\n",
    "#OR It is probably the inverse, Higher the risk, higher the interest rate.\n",
    "# It is import as it could change the model if it is included or not.\n",
    "#But if this data is computed from the other ones... Is there a need to keep it ?"
   ]
  },
  {
   "cell_type": "markdown",
   "metadata": {},
   "source": [
    "# Cleaning\n",
    "\n",
    "* [Remove high incomes](#remove_high_incomes) ?\n",
    "* Missing values\n",
    "* Deal with time\n",
    "* Deal with adresses -> I think I'll remove it as even google does not find anything with those adresses\n",
    "* [Remove interest rate](#remove_int_rate) ?"
   ]
  },
  {
   "cell_type": "code",
   "execution_count": null,
   "metadata": {},
   "outputs": [],
   "source": [
    "df.head().transpose()"
   ]
  },
  {
   "cell_type": "code",
   "execution_count": null,
   "metadata": {},
   "outputs": [],
   "source": [
    "plt.figure(figsize=(15,7))\n",
    "sns.heatmap(df.isna()) # Can do the same with the lib: import missingno as msno"
   ]
  },
  {
   "cell_type": "code",
   "execution_count": null,
   "metadata": {},
   "outputs": [],
   "source": [
    "df.info()"
   ]
  },
  {
   "cell_type": "code",
   "execution_count": null,
   "metadata": {},
   "outputs": [],
   "source": [
    "import re\n",
    "df[\"term\"] = [int(re.search(\"([0-9]+)\", term).group(0)) for term in df['term']]"
   ]
  },
  {
   "cell_type": "code",
   "execution_count": null,
   "metadata": {},
   "outputs": [],
   "source": [
    "# lets give a number to each grade and rmeove redundant information in subgrade -> to be checked\n",
    "m = [re.search(\"([A-Z])([0-9])\", subgrade) for subgrade in df[\"sub_grade\"]]\n",
    "# Does subgrade letter is always equal to grade ?\n",
    "if (len(set([m[i].group(1) == grade for i, grade in enumerate(df[\"grade\"])])) != 1):\n",
    "    raise ValueError(\"Some subgrade letters or not equal to the letter of the corresponding grade\")"
   ]
  },
  {
   "cell_type": "code",
   "execution_count": null,
   "metadata": {},
   "outputs": [],
   "source": [
    "df[\"sub_grade\"] = [int(x.group(2)) for x in m]"
   ]
  },
  {
   "cell_type": "code",
   "execution_count": null,
   "metadata": {},
   "outputs": [],
   "source": [
    "df[\"grade\"] = [ord(x) for x in df[\"grade\"]]"
   ]
  },
  {
   "cell_type": "code",
   "execution_count": null,
   "metadata": {},
   "outputs": [],
   "source": [
    "set(df[\"emp_title\"])"
   ]
  },
  {
   "cell_type": "code",
   "execution_count": null,
   "metadata": {},
   "outputs": [],
   "source": [
    "# Let's drop it as there are too many things inside\n",
    "df.drop(\"emp_title\", axis=1, inplace=True)"
   ]
  },
  {
   "cell_type": "code",
   "execution_count": null,
   "metadata": {},
   "outputs": [],
   "source": [
    "df[\"emp_length\"].value_counts()"
   ]
  },
  {
   "cell_type": "code",
   "execution_count": null,
   "metadata": {},
   "outputs": [],
   "source": [
    "len(df[\"emp_length\"][df[\"emp_length\"].isnull() == True])"
   ]
  },
  {
   "cell_type": "code",
   "execution_count": null,
   "metadata": {},
   "outputs": [],
   "source": [
    "px.histogram(df, \"emp_length\", color=\"loan_status\", barnorm=\"percent\")"
   ]
  },
  {
   "cell_type": "code",
   "execution_count": null,
   "metadata": {},
   "outputs": [],
   "source": [
    "# No need to keep it as there is no relations with status loan, let's drop it.\n",
    "df.drop(\"emp_length\", axis=1, inplace=True)"
   ]
  },
  {
   "cell_type": "code",
   "execution_count": null,
   "metadata": {},
   "outputs": [],
   "source": [
    "set(df[\"home_ownership\"])"
   ]
  },
  {
   "cell_type": "code",
   "execution_count": null,
   "metadata": {},
   "outputs": [],
   "source": [
    "px.histogram(df, \"home_ownership\", color=\"loan_status\", barnorm=\"percent\")"
   ]
  },
  {
   "cell_type": "code",
   "execution_count": null,
   "metadata": {},
   "outputs": [],
   "source": [
    "px.histogram(df, \"home_ownership\", color=\"loan_status\")"
   ]
  },
  {
   "cell_type": "code",
   "execution_count": null,
   "metadata": {},
   "outputs": [],
   "source": [
    "df[\"home_ownership\"].value_counts()"
   ]
  },
  {
   "cell_type": "code",
   "execution_count": null,
   "metadata": {},
   "outputs": [],
   "source": [
    "#Let's drop the input that have ANY, OTHER OR NONE as it has not any sense and it can influence the reuslt.\n",
    "#For instance for an input entered with home_ownership=ANY, there is a 100% chance that the loan is paid -> This\n",
    "#is an non-sense\n",
    "df.drop(df[df[\"home_ownership\"].isin([\"NONE\", \"OTHER\", \"ANY\"])].index, inplace=True)"
   ]
  },
  {
   "cell_type": "code",
   "execution_count": null,
   "metadata": {},
   "outputs": [],
   "source": [
    "df[\"home_ownership\"].value_counts()"
   ]
  },
  {
   "cell_type": "code",
   "execution_count": null,
   "metadata": {},
   "outputs": [],
   "source": [
    "df = df.join(df[\"home_ownership\"].str.get_dummies())"
   ]
  },
  {
   "cell_type": "code",
   "execution_count": null,
   "metadata": {},
   "outputs": [],
   "source": [
    "df.drop(\"home_ownership\", axis=1, inplace=True)"
   ]
  },
  {
   "cell_type": "code",
   "execution_count": null,
   "metadata": {},
   "outputs": [],
   "source": [
    "df[\"verification_status\"].value_counts()"
   ]
  },
  {
   "cell_type": "code",
   "execution_count": null,
   "metadata": {},
   "outputs": [],
   "source": [
    "df = df.join(df[\"verification_status\"].str.get_dummies())\n",
    "df.drop(\"verification_status\", axis=1, inplace=True)"
   ]
  },
  {
   "cell_type": "code",
   "execution_count": null,
   "metadata": {},
   "outputs": [],
   "source": [
    "df[\"issue_d\"].value_counts()"
   ]
  },
  {
   "cell_type": "code",
   "execution_count": null,
   "metadata": {},
   "outputs": [],
   "source": [
    "import datetime"
   ]
  },
  {
   "cell_type": "code",
   "execution_count": null,
   "metadata": {},
   "outputs": [],
   "source": [
    "df[\"issue_d_year\"] = [datetime.datetime.strptime(date, \"%b-%Y\").year for date in df[\"issue_d\"]]\n",
    "df[\"issue_d_month\"] = [datetime.datetime.strptime(date, \"%b-%Y\").month for date in df[\"issue_d\"]]\n",
    "df.drop(\"issue_d\", axis=1, inplace=True)"
   ]
  },
  {
   "cell_type": "code",
   "execution_count": null,
   "metadata": {},
   "outputs": [],
   "source": [
    "df[\"purpose\"].value_counts()"
   ]
  },
  {
   "cell_type": "code",
   "execution_count": null,
   "metadata": {},
   "outputs": [],
   "source": [
    "df = df.join(df[\"purpose\"].str.get_dummies())\n",
    "df.drop(\"purpose\", inplace=True, axis=1)"
   ]
  },
  {
   "cell_type": "code",
   "execution_count": null,
   "metadata": {},
   "outputs": [],
   "source": [
    "df.drop(\"title\", inplace=True, axis=1)"
   ]
  },
  {
   "cell_type": "code",
   "execution_count": null,
   "metadata": {},
   "outputs": [],
   "source": [
    "px.histogram(df[df[\"dti\"] < 200], x=\"dti\", color=\"loan_status\", nbins=50)"
   ]
  },
  {
   "cell_type": "code",
   "execution_count": null,
   "metadata": {},
   "outputs": [],
   "source": [
    "px.histogram(df, x=\"dti\", color=\"loan_status\", barnorm=\"percent\")"
   ]
  },
  {
   "cell_type": "code",
   "execution_count": null,
   "metadata": {},
   "outputs": [],
   "source": [
    "len(df[df[\"dti\"] > 40])"
   ]
  },
  {
   "cell_type": "code",
   "execution_count": null,
   "metadata": {},
   "outputs": [],
   "source": [
    "df.drop(df[df[\"dti\"] > 40].index, inplace=True)"
   ]
  },
  {
   "cell_type": "code",
   "execution_count": null,
   "metadata": {},
   "outputs": [],
   "source": [
    "df.info()"
   ]
  },
  {
   "cell_type": "code",
   "execution_count": null,
   "metadata": {},
   "outputs": [],
   "source": [
    "df.drop(\"address\", inplace=True, axis=1)"
   ]
  },
  {
   "cell_type": "code",
   "execution_count": null,
   "metadata": {},
   "outputs": [],
   "source": [
    "df = df.join(pd.get_dummies(df[\"application_type\"]))\n",
    "df.drop(\"application_type\", inplace=True, axis=1)"
   ]
  },
  {
   "cell_type": "code",
   "execution_count": null,
   "metadata": {},
   "outputs": [],
   "source": [
    "df = df.join(pd.get_dummies(df[\"initial_list_status\"]))\n",
    "df.drop(\"initial_list_status\", inplace=True, axis=1)"
   ]
  },
  {
   "cell_type": "code",
   "execution_count": null,
   "metadata": {},
   "outputs": [],
   "source": [
    "df[\"earliest_cr_line_year\"] = [datetime.datetime.strptime(date, \"%b-%Y\").year for date in df[\"earliest_cr_line\"]]\n",
    "df[\"earliest_cr_line_month\"] = [datetime.datetime.strptime(date, \"%b-%Y\").month for date in df[\"earliest_cr_line\"]]\n",
    "df.drop(\"earliest_cr_line\", inplace=True, axis=1)"
   ]
  },
  {
   "cell_type": "code",
   "execution_count": null,
   "metadata": {},
   "outputs": [],
   "source": [
    "df = df.dropna() # This remove Nan for columns mort_acc and pub_rec_bankruptcies, BRUT FORCE -> we may can do better"
   ]
  },
  {
   "cell_type": "markdown",
   "metadata": {},
   "source": [
    "# Deep learning"
   ]
  },
  {
   "cell_type": "code",
   "execution_count": 126,
   "metadata": {},
   "outputs": [],
   "source": [
    "# Let's first try without removing int_rate or high annual_income as proposed at the beggining of the cleaning part."
   ]
  },
  {
   "cell_type": "code",
   "execution_count": 128,
   "metadata": {},
   "outputs": [],
   "source": [
    "X = df.drop(\"loan_status\", axis=1)\n",
    "y = df[\"loan_status\"]"
   ]
  },
  {
   "cell_type": "code",
   "execution_count": 129,
   "metadata": {},
   "outputs": [],
   "source": [
    "from sklearn.model_selection import train_test_split"
   ]
  },
  {
   "cell_type": "code",
   "execution_count": 137,
   "metadata": {},
   "outputs": [],
   "source": [
    "X_train, X_test, y_train, y_test = train_test_split(X, y, test_size=0.3, random_state=42)"
   ]
  },
  {
   "cell_type": "code",
   "execution_count": 138,
   "metadata": {},
   "outputs": [],
   "source": [
    "from sklearn.preprocessing import MinMaxScaler"
   ]
  },
  {
   "cell_type": "code",
   "execution_count": 139,
   "metadata": {},
   "outputs": [],
   "source": [
    "scaler = MinMaxScaler()"
   ]
  },
  {
   "cell_type": "code",
   "execution_count": 140,
   "metadata": {},
   "outputs": [
    {
     "name": "stderr",
     "output_type": "stream",
     "text": [
      "/Library/Frameworks/Python.framework/Versions/3.6/lib/python3.6/site-packages/sklearn/preprocessing/data.py:323: DataConversionWarning:\n",
      "\n",
      "Data with input dtype uint8, int64, float64 were all converted to float64 by MinMaxScaler.\n",
      "\n"
     ]
    }
   ],
   "source": [
    "scaler.fit(X_train)\n",
    "X_train = scaler.transform(X_train)\n",
    "X_test = scaler.transform(X_test)"
   ]
  },
  {
   "cell_type": "code",
   "execution_count": 143,
   "metadata": {},
   "outputs": [],
   "source": [
    "from tensorflow.keras.models import Sequential\n",
    "from tensorflow.keras.layers import Dense, Dropout\n",
    "from tensorflow.keras.callbacks import EarlyStopping"
   ]
  },
  {
   "cell_type": "code",
   "execution_count": 142,
   "metadata": {},
   "outputs": [
    {
     "data": {
      "text/plain": [
       "(250356, 44)"
      ]
     },
     "execution_count": 142,
     "metadata": {},
     "output_type": "execute_result"
    }
   ],
   "source": [
    "X_train.shape"
   ]
  },
  {
   "cell_type": "code",
   "execution_count": 136,
   "metadata": {},
   "outputs": [],
   "source": [
    "model = Sequential()"
   ]
  },
  {
   "cell_type": "code",
   "execution_count": 146,
   "metadata": {},
   "outputs": [],
   "source": [
    "model.add(Dense(units=40, activation=\"relu\"))\n",
    "model.add(Dense(units=21, activation=\"relu\"))\n",
    "model.add(Dense(units=1, activation=\"sigmoid\"))\n",
    "\n",
    "model.compile(optimizer=\"adam\", loss=\"binary_crossentropy\")"
   ]
  },
  {
   "cell_type": "code",
   "execution_count": 147,
   "metadata": {},
   "outputs": [],
   "source": [
    "early_stop = EarlyStopping(monitor=\"val_loss\", patience=25, mode=\"min\")"
   ]
  },
  {
   "cell_type": "code",
   "execution_count": 150,
   "metadata": {},
   "outputs": [
    {
     "name": "stdout",
     "output_type": "stream",
     "text": [
      "Train on 250356 samples, validate on 107296 samples\n",
      "Epoch 1/500\n",
      "250356/250356 [==============================] - 5s 21us/sample - loss: 0.4723 - val_loss: 0.4563\n",
      "Epoch 2/500\n",
      "250356/250356 [==============================] - 5s 18us/sample - loss: 0.4570 - val_loss: 0.4538\n",
      "Epoch 3/500\n",
      "250356/250356 [==============================] - 5s 18us/sample - loss: 0.4546 - val_loss: 0.4523\n",
      "Epoch 4/500\n",
      "250356/250356 [==============================] - 5s 18us/sample - loss: 0.4529 - val_loss: 0.4503\n",
      "Epoch 5/500\n",
      "250356/250356 [==============================] - 5s 18us/sample - loss: 0.4518 - val_loss: 0.4546\n",
      "Epoch 6/500\n",
      "250356/250356 [==============================] - 5s 18us/sample - loss: 0.4512 - val_loss: 0.4490\n",
      "Epoch 7/500\n",
      "250356/250356 [==============================] - 5s 19us/sample - loss: 0.4504 - val_loss: 0.4500\n",
      "Epoch 8/500\n",
      "250356/250356 [==============================] - 5s 19us/sample - loss: 0.4502 - val_loss: 0.4503\n",
      "Epoch 9/500\n",
      "250356/250356 [==============================] - 5s 19us/sample - loss: 0.4497 - val_loss: 0.4481\n",
      "Epoch 10/500\n",
      "250356/250356 [==============================] - 5s 19us/sample - loss: 0.4494 - val_loss: 0.4496\n",
      "Epoch 11/500\n",
      "250356/250356 [==============================] - 5s 19us/sample - loss: 0.4492 - val_loss: 0.4499\n",
      "Epoch 12/500\n",
      "250356/250356 [==============================] - 5s 19us/sample - loss: 0.4490 - val_loss: 0.4476\n",
      "Epoch 13/500\n",
      "250356/250356 [==============================] - 5s 20us/sample - loss: 0.4488 - val_loss: 0.4498\n",
      "Epoch 14/500\n",
      "250356/250356 [==============================] - 5s 19us/sample - loss: 0.4484 - val_loss: 0.4482\n",
      "Epoch 15/500\n",
      "250356/250356 [==============================] - 5s 19us/sample - loss: 0.4485 - val_loss: 0.4476\n",
      "Epoch 16/500\n",
      "250356/250356 [==============================] - 5s 19us/sample - loss: 0.4481 - val_loss: 0.4481\n",
      "Epoch 17/500\n",
      "250356/250356 [==============================] - 5s 19us/sample - loss: 0.4479 - val_loss: 0.4503\n",
      "Epoch 18/500\n",
      "250356/250356 [==============================] - 5s 19us/sample - loss: 0.4478 - val_loss: 0.4475\n",
      "Epoch 19/500\n",
      "250356/250356 [==============================] - 5s 19us/sample - loss: 0.4476 - val_loss: 0.4477\n",
      "Epoch 20/500\n",
      "250356/250356 [==============================] - 5s 19us/sample - loss: 0.4477 - val_loss: 0.4475\n",
      "Epoch 21/500\n",
      "250356/250356 [==============================] - 5s 19us/sample - loss: 0.4473 - val_loss: 0.4477\n",
      "Epoch 22/500\n",
      "250356/250356 [==============================] - 5s 19us/sample - loss: 0.4471 - val_loss: 0.4473\n",
      "Epoch 23/500\n",
      "250356/250356 [==============================] - 5s 19us/sample - loss: 0.4473 - val_loss: 0.4475\n",
      "Epoch 24/500\n",
      "250356/250356 [==============================] - 5s 19us/sample - loss: 0.4470 - val_loss: 0.4476\n",
      "Epoch 25/500\n",
      "250356/250356 [==============================] - 5s 19us/sample - loss: 0.4469 - val_loss: 0.4476\n",
      "Epoch 26/500\n",
      "250356/250356 [==============================] - 5s 19us/sample - loss: 0.4468 - val_loss: 0.4482\n",
      "Epoch 27/500\n",
      "250356/250356 [==============================] - 5s 19us/sample - loss: 0.4467 - val_loss: 0.4483\n",
      "Epoch 28/500\n",
      "250356/250356 [==============================] - 5s 19us/sample - loss: 0.4466 - val_loss: 0.4475\n",
      "Epoch 29/500\n",
      "250356/250356 [==============================] - 5s 19us/sample - loss: 0.4465 - val_loss: 0.4474\n",
      "Epoch 30/500\n",
      "250356/250356 [==============================] - 5s 19us/sample - loss: 0.4465 - val_loss: 0.4475\n",
      "Epoch 31/500\n",
      "250356/250356 [==============================] - 5s 19us/sample - loss: 0.4463 - val_loss: 0.4470\n",
      "Epoch 32/500\n",
      "250356/250356 [==============================] - 5s 19us/sample - loss: 0.4461 - val_loss: 0.4488\n",
      "Epoch 33/500\n",
      "250356/250356 [==============================] - 5s 19us/sample - loss: 0.4461 - val_loss: 0.4486\n",
      "Epoch 34/500\n",
      "250356/250356 [==============================] - 5s 19us/sample - loss: 0.4461 - val_loss: 0.4471\n",
      "Epoch 35/500\n",
      "250356/250356 [==============================] - 5s 19us/sample - loss: 0.4458 - val_loss: 0.4486\n",
      "Epoch 36/500\n",
      "250356/250356 [==============================] - 5s 19us/sample - loss: 0.4461 - val_loss: 0.4471\n",
      "Epoch 37/500\n",
      "250356/250356 [==============================] - 5s 19us/sample - loss: 0.4459 - val_loss: 0.4491\n",
      "Epoch 38/500\n",
      "250356/250356 [==============================] - 5s 19us/sample - loss: 0.4457 - val_loss: 0.4473\n",
      "Epoch 39/500\n",
      "250356/250356 [==============================] - 5s 19us/sample - loss: 0.4457 - val_loss: 0.4472\n",
      "Epoch 40/500\n",
      "250356/250356 [==============================] - 5s 19us/sample - loss: 0.4455 - val_loss: 0.4474\n",
      "Epoch 41/500\n",
      "250356/250356 [==============================] - 5s 19us/sample - loss: 0.4455 - val_loss: 0.4473\n",
      "Epoch 42/500\n",
      "250356/250356 [==============================] - 5s 19us/sample - loss: 0.4456 - val_loss: 0.4470\n",
      "Epoch 43/500\n",
      "250356/250356 [==============================] - 5s 19us/sample - loss: 0.4454 - val_loss: 0.4546\n",
      "Epoch 44/500\n",
      "250356/250356 [==============================] - 5s 19us/sample - loss: 0.4454 - val_loss: 0.4491\n",
      "Epoch 45/500\n",
      "250356/250356 [==============================] - 5s 19us/sample - loss: 0.4452 - val_loss: 0.4480\n",
      "Epoch 46/500\n",
      "250356/250356 [==============================] - 5s 19us/sample - loss: 0.4451 - val_loss: 0.4501\n",
      "Epoch 47/500\n",
      "250356/250356 [==============================] - 5s 19us/sample - loss: 0.4452 - val_loss: 0.4483\n",
      "Epoch 48/500\n",
      "250356/250356 [==============================] - 5s 19us/sample - loss: 0.4450 - val_loss: 0.4480\n",
      "Epoch 49/500\n",
      "250356/250356 [==============================] - 5s 19us/sample - loss: 0.4448 - val_loss: 0.4485\n",
      "Epoch 50/500\n",
      "250356/250356 [==============================] - 5s 19us/sample - loss: 0.4450 - val_loss: 0.4473\n",
      "Epoch 51/500\n",
      "250356/250356 [==============================] - 5s 19us/sample - loss: 0.4449 - val_loss: 0.4488\n",
      "Epoch 52/500\n",
      "250356/250356 [==============================] - 5s 19us/sample - loss: 0.4448 - val_loss: 0.4478\n",
      "Epoch 53/500\n",
      "250356/250356 [==============================] - 5s 19us/sample - loss: 0.4447 - val_loss: 0.4478\n",
      "Epoch 54/500\n",
      "250356/250356 [==============================] - 5s 19us/sample - loss: 0.4447 - val_loss: 0.4479\n",
      "Epoch 55/500\n",
      "250356/250356 [==============================] - 5s 19us/sample - loss: 0.4446 - val_loss: 0.4491\n",
      "Epoch 56/500\n",
      "250356/250356 [==============================] - 5s 19us/sample - loss: 0.4446 - val_loss: 0.4479\n"
     ]
    },
    {
     "data": {
      "text/plain": [
       "<tensorflow.python.keras.callbacks.History at 0x14b11d518>"
      ]
     },
     "execution_count": 150,
     "metadata": {},
     "output_type": "execute_result"
    }
   ],
   "source": [
    "model.fit(x=X_train, y=y_train.values, batch_size=128, epochs=500, callbacks=[early_stop],\n",
    "          validation_data=(X_test, y_test.values), verbose=1)"
   ]
  },
  {
   "cell_type": "code",
   "execution_count": 151,
   "metadata": {},
   "outputs": [
    {
     "data": {
      "text/plain": [
       "<matplotlib.axes._subplots.AxesSubplot at 0x14b11d828>"
      ]
     },
     "execution_count": 151,
     "metadata": {},
     "output_type": "execute_result"
    },
    {
     "data": {
      "image/png": "[encoded data removed]",
      "text/plain": [
       "<Figure size 432x288 with 1 Axes>"
      ]
     },
     "metadata": {
      "needs_background": "light"
     },
     "output_type": "display_data"
    }
   ],
   "source": [
    "model_loss = pd.DataFrame(model.history.history)\n",
    "model_loss.plot()"
   ]
  },
  {
   "cell_type": "code",
   "execution_count": null,
   "metadata": {},
   "outputs": [],
   "source": []
  }
 ],
 "metadata": {
  "kernelspec": {
   "display_name": "Python 3",
   "language": "python",
   "name": "python3"
  },
  "language_info": {
   "codemirror_mode": {
    "name": "ipython",
    "version": 3
   },
   "file_extension": ".py",
   "mimetype": "text/x-python",
   "name": "python",
   "nbconvert_exporter": "python",
   "pygments_lexer": "ipython3",
   "version": "3.6.2"
  }
 },
 "nbformat": 4,
 "nbformat_minor": 2
}
