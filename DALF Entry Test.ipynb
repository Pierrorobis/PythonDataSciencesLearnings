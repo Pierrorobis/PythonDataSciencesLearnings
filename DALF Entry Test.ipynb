{
 "cells": [
  {
   "cell_type": "markdown",
   "metadata": {},
   "source": [
    "# Data Analytics Learning Framework Entry Test #\n",
    "\n",
    "## Introduction ##\n",
    "\n",
    "Sandra is a manufacturer of widgets. She has 5 colours of widgets: Blue, Red, Orange, Green and Purple. Recently she has had a issue with quality of the parts related to lengths the widgets being outside of tolerance. Each colour group has an associated quality check tolerence band for the lengths. She has asked her team to measure the length of the most recent batch of parts and mark down the colour of each.\n",
    "\n",
    "She has turned to you to help her analyse the data. She has provided you will two datasets:\n",
    "- The measurements & colours per part taken by her team.\n",
    "- The tolerences for each colour group. (Note that the tolerences are inclusive)\n",
    "\n",
    "For each colour group she would like to know:\n",
    "- Number of parts in the group\n",
    "- Median length value (to 3 decimal places e.g. 99.999)\n",
    "- Interquartile range (to 3 decimal places e.g. 9.999)\n",
    "- Percentage of parts that pass their corresponding tolerence band (to 2 decimal places e.g 99.99%)\n",
    "\n",
    "Note: Unfortunately while marking down the colour of each part her team used slightly different syntax to describe the colour. She would like you to correct this before producing her outputs."
   ]
  },
  {
   "cell_type": "markdown",
   "metadata": {},
   "source": [
    "# Set up #\n",
    "\n",
    "### Do not modify the code in the next box ###\n",
    "\n",
    "Execute the code below to get your data."
   ]
  },
  {
   "cell_type": "code",
   "execution_count": 1,
   "metadata": {},
   "outputs": [],
   "source": [
    "#### DO NOT MODIFY ###\n",
    "\n",
    "import pandas as pd\n",
    "import numpy as np\n",
    "\n",
    "seeding = 0\n",
    "\n",
    "R_mu, R_sig = (16.0, 0.5)\n",
    "B_mu, B_sig = (16.0, 0.2)\n",
    "G_mu, G_sig = (16.4, 0.4)\n",
    "P_mu, P_sig = (16.0, 0.3)\n",
    "O_mu, O_sig = (16.8, 0.8)\n",
    "\n",
    "df_config = pd.DataFrame({\n",
    "    \"Colour_raw\":['RED','R','Red','red','BLUE','Bleu','Blue','B','G','Green','GREEN','green','O','Orang','Orange','PURP','Purpal','Purple'],\n",
    "    \"Colour_True\" : ['Red','Red','Red','Red','Blue','Blue','Blue','Blue','Green','Green','Green','Green','Orange','Orange','Orange','Purple','Purple','Purple'],\n",
    "    \"N_parts\" : [2301,5325,6003,8002,1200,490,4450,1151,1990,9012,342,153,5515,23,6351,741,698,4900],\n",
    "    \"Mu\": [R_mu,R_mu,R_mu,R_mu,B_mu,B_mu,B_mu,B_mu,G_mu,G_mu,G_mu,G_mu,O_mu,O_mu,O_mu,P_mu,P_mu,P_mu],\n",
    "    \"Sig\": [R_sig,R_sig,R_sig,R_sig,B_sig,B_sig,B_sig,B_sig,G_sig,G_sig,G_sig,G_sig,O_sig,O_sig,O_sig,P_sig,P_sig,P_sig]\n",
    "\n",
    "})\n",
    "\n",
    "df_mast = pd.DataFrame()\n",
    "for n1 in range(0,len(df_config)):\n",
    "    np.random.seed(seeding)\n",
    "    df_local = pd.DataFrame(\n",
    "        {'Colour':df_config.loc[n1,'Colour_raw'],\n",
    "        'Length':np.round(np.random.normal(df_config.loc[n1,'Mu'],df_config.loc[n1,'Sig'],df_config.loc[n1,'N_parts']),3)})\n",
    "    df_mast = pd.concat([df_mast,df_local])\n",
    "\n",
    "Measurements = df_mast.sample(frac=1).reset_index(drop=True)\n",
    "    \n",
    "Tolerences = pd.DataFrame({'Colour':['Red','Blue','Green','Orange','Purple'],\n",
    "                       'Lower Tolerence':[14.50,15.625,15.60,14.15,15.25],\n",
    "                       'Upper Tolerence':[19.150,17.755,18.25,17.95,17.25]})\n"
   ]
  },
  {
   "cell_type": "markdown",
   "metadata": {},
   "source": [
    "## Instructions ##\n",
    "\n",
    "Your two data sets are:\n",
    "\n",
    "Measurements  -  Which is the list of measurements of length of widgets measured by the team\n",
    "\n",
    "Tolerences    -  The upper and lower tolerence linked to each colour category"
   ]
  },
  {
   "cell_type": "markdown",
   "metadata": {},
   "source": [
    "## Measurement dataset ##\n",
    "\n",
    "Below is a sample of the Measurements data set. As you can see the team have not been consistend in the way they label colour. However the length has consistently been given to 3 decimal places"
   ]
  },
  {
   "cell_type": "code",
   "execution_count": 3,
   "metadata": {},
   "outputs": [
    {
     "data": {
      "text/html": [
       "<div>\n",
       "<style scoped>\n",
       "    .dataframe tbody tr th:only-of-type {\n",
       "        vertical-align: middle;\n",
       "    }\n",
       "\n",
       "    .dataframe tbody tr th {\n",
       "        vertical-align: top;\n",
       "    }\n",
       "\n",
       "    .dataframe thead th {\n",
       "        text-align: right;\n",
       "    }\n",
       "</style>\n",
       "<table border=\"1\" class=\"dataframe\">\n",
       "  <thead>\n",
       "    <tr style=\"text-align: right;\">\n",
       "      <th></th>\n",
       "      <th>Colour</th>\n",
       "      <th>Length</th>\n",
       "    </tr>\n",
       "  </thead>\n",
       "  <tbody>\n",
       "    <tr>\n",
       "      <th>0</th>\n",
       "      <td>R</td>\n",
       "      <td>16.096</td>\n",
       "    </tr>\n",
       "    <tr>\n",
       "      <th>1</th>\n",
       "      <td>Orange</td>\n",
       "      <td>17.613</td>\n",
       "    </tr>\n",
       "    <tr>\n",
       "      <th>2</th>\n",
       "      <td>Green</td>\n",
       "      <td>16.008</td>\n",
       "    </tr>\n",
       "    <tr>\n",
       "      <th>3</th>\n",
       "      <td>O</td>\n",
       "      <td>18.189</td>\n",
       "    </tr>\n",
       "    <tr>\n",
       "      <th>4</th>\n",
       "      <td>O</td>\n",
       "      <td>17.376</td>\n",
       "    </tr>\n",
       "    <tr>\n",
       "      <th>5</th>\n",
       "      <td>Green</td>\n",
       "      <td>15.829</td>\n",
       "    </tr>\n",
       "    <tr>\n",
       "      <th>6</th>\n",
       "      <td>Red</td>\n",
       "      <td>15.618</td>\n",
       "    </tr>\n",
       "    <tr>\n",
       "      <th>7</th>\n",
       "      <td>Green</td>\n",
       "      <td>16.344</td>\n",
       "    </tr>\n",
       "    <tr>\n",
       "      <th>8</th>\n",
       "      <td>Green</td>\n",
       "      <td>16.638</td>\n",
       "    </tr>\n",
       "    <tr>\n",
       "      <th>9</th>\n",
       "      <td>RED</td>\n",
       "      <td>16.270</td>\n",
       "    </tr>\n",
       "  </tbody>\n",
       "</table>\n",
       "</div>"
      ],
      "text/plain": [
       "   Colour  Length\n",
       "0       R  16.096\n",
       "1  Orange  17.613\n",
       "2   Green  16.008\n",
       "3       O  18.189\n",
       "4       O  17.376\n",
       "5   Green  15.829\n",
       "6     Red  15.618\n",
       "7   Green  16.344\n",
       "8   Green  16.638\n",
       "9     RED  16.270"
      ]
     },
     "execution_count": 3,
     "metadata": {},
     "output_type": "execute_result"
    }
   ],
   "source": [
    "Measurements.head(10)"
   ]
  },
  {
   "cell_type": "code",
   "execution_count": 7,
   "metadata": {},
   "outputs": [
    {
     "data": {
      "text/plain": [
       "58647"
      ]
     },
     "execution_count": 7,
     "metadata": {},
     "output_type": "execute_result"
    }
   ],
   "source": [
    "len(Measurements)"
   ]
  },
  {
   "cell_type": "code",
   "execution_count": 6,
   "metadata": {},
   "outputs": [
    {
     "data": {
      "text/html": [
       "<div>\n",
       "<style scoped>\n",
       "    .dataframe tbody tr th:only-of-type {\n",
       "        vertical-align: middle;\n",
       "    }\n",
       "\n",
       "    .dataframe tbody tr th {\n",
       "        vertical-align: top;\n",
       "    }\n",
       "\n",
       "    .dataframe thead th {\n",
       "        text-align: right;\n",
       "    }\n",
       "</style>\n",
       "<table border=\"1\" class=\"dataframe\">\n",
       "  <thead>\n",
       "    <tr style=\"text-align: right;\">\n",
       "      <th></th>\n",
       "      <th>Colour</th>\n",
       "      <th>Length</th>\n",
       "    </tr>\n",
       "  </thead>\n",
       "  <tbody>\n",
       "    <tr>\n",
       "      <th>58642</th>\n",
       "      <td>Purple</td>\n",
       "      <td>15.636</td>\n",
       "    </tr>\n",
       "    <tr>\n",
       "      <th>58643</th>\n",
       "      <td>R</td>\n",
       "      <td>15.880</td>\n",
       "    </tr>\n",
       "    <tr>\n",
       "      <th>58644</th>\n",
       "      <td>BLUE</td>\n",
       "      <td>15.891</td>\n",
       "    </tr>\n",
       "    <tr>\n",
       "      <th>58645</th>\n",
       "      <td>red</td>\n",
       "      <td>16.806</td>\n",
       "    </tr>\n",
       "    <tr>\n",
       "      <th>58646</th>\n",
       "      <td>Blue</td>\n",
       "      <td>16.050</td>\n",
       "    </tr>\n",
       "  </tbody>\n",
       "</table>\n",
       "</div>"
      ],
      "text/plain": [
       "       Colour  Length\n",
       "58642  Purple  15.636\n",
       "58643       R  15.880\n",
       "58644    BLUE  15.891\n",
       "58645     red  16.806\n",
       "58646    Blue  16.050"
      ]
     },
     "execution_count": 6,
     "metadata": {},
     "output_type": "execute_result"
    }
   ],
   "source": [
    "Measurements.tail(5)"
   ]
  },
  {
   "cell_type": "code",
   "execution_count": 13,
   "metadata": {},
   "outputs": [
    {
     "data": {
      "text/html": [
       "<div>\n",
       "<style scoped>\n",
       "    .dataframe tbody tr th:only-of-type {\n",
       "        vertical-align: middle;\n",
       "    }\n",
       "\n",
       "    .dataframe tbody tr th {\n",
       "        vertical-align: top;\n",
       "    }\n",
       "\n",
       "    .dataframe thead th {\n",
       "        text-align: right;\n",
       "    }\n",
       "</style>\n",
       "<table border=\"1\" class=\"dataframe\">\n",
       "  <thead>\n",
       "    <tr style=\"text-align: right;\">\n",
       "      <th></th>\n",
       "      <th>Colour</th>\n",
       "      <th>Length</th>\n",
       "    </tr>\n",
       "  </thead>\n",
       "  <tbody>\n",
       "  </tbody>\n",
       "</table>\n",
       "</div>"
      ],
      "text/plain": [
       "Empty DataFrame\n",
       "Columns: [Colour, Length]\n",
       "Index: []"
      ]
     },
     "execution_count": 13,
     "metadata": {},
     "output_type": "execute_result"
    }
   ],
   "source": [
    "Measurements.filter(regex=\"((^R|^r)[A-z]*)\", axis=0)"
   ]
  },
  {
   "cell_type": "markdown",
   "metadata": {},
   "source": [
    "## Tolerence dataset ##"
   ]
  },
  {
   "cell_type": "code",
   "execution_count": 7,
   "metadata": {},
   "outputs": [
    {
     "data": {
      "text/html": [
       "<div>\n",
       "<style scoped>\n",
       "    .dataframe tbody tr th:only-of-type {\n",
       "        vertical-align: middle;\n",
       "    }\n",
       "\n",
       "    .dataframe tbody tr th {\n",
       "        vertical-align: top;\n",
       "    }\n",
       "\n",
       "    .dataframe thead th {\n",
       "        text-align: right;\n",
       "    }\n",
       "</style>\n",
       "<table border=\"1\" class=\"dataframe\">\n",
       "  <thead>\n",
       "    <tr style=\"text-align: right;\">\n",
       "      <th></th>\n",
       "      <th>Colour</th>\n",
       "      <th>Lower Tolerence</th>\n",
       "      <th>Upper Tolerence</th>\n",
       "    </tr>\n",
       "  </thead>\n",
       "  <tbody>\n",
       "    <tr>\n",
       "      <th>0</th>\n",
       "      <td>Red</td>\n",
       "      <td>14.500</td>\n",
       "      <td>19.150</td>\n",
       "    </tr>\n",
       "    <tr>\n",
       "      <th>1</th>\n",
       "      <td>Blue</td>\n",
       "      <td>15.625</td>\n",
       "      <td>17.755</td>\n",
       "    </tr>\n",
       "    <tr>\n",
       "      <th>2</th>\n",
       "      <td>Green</td>\n",
       "      <td>15.600</td>\n",
       "      <td>18.250</td>\n",
       "    </tr>\n",
       "    <tr>\n",
       "      <th>3</th>\n",
       "      <td>Orange</td>\n",
       "      <td>14.150</td>\n",
       "      <td>17.950</td>\n",
       "    </tr>\n",
       "    <tr>\n",
       "      <th>4</th>\n",
       "      <td>Purple</td>\n",
       "      <td>15.250</td>\n",
       "      <td>17.250</td>\n",
       "    </tr>\n",
       "  </tbody>\n",
       "</table>\n",
       "</div>"
      ],
      "text/plain": [
       "   Colour  Lower Tolerence  Upper Tolerence\n",
       "0     Red           14.500           19.150\n",
       "1    Blue           15.625           17.755\n",
       "2   Green           15.600           18.250\n",
       "3  Orange           14.150           17.950\n",
       "4  Purple           15.250           17.250"
      ]
     },
     "execution_count": 7,
     "metadata": {},
     "output_type": "execute_result"
    }
   ],
   "source": [
    "Tolerences"
   ]
  },
  {
   "cell_type": "code",
   "execution_count": 9,
   "metadata": {},
   "outputs": [
    {
     "data": {
      "text/plain": [
       "5"
      ]
     },
     "execution_count": 9,
     "metadata": {},
     "output_type": "execute_result"
    }
   ],
   "source": [
    "len(Tolerences)"
   ]
  },
  {
   "cell_type": "code",
   "execution_count": null,
   "metadata": {},
   "outputs": [],
   "source": []
  },
  {
   "cell_type": "markdown",
   "metadata": {},
   "source": [
    "## Hints ##\n",
    "\n",
    "### Table ###\n",
    "You will want to aggregate the data into a table similar to this:\n",
    "\n",
    "|  | Number of Parts | Median Length | Interquartile Range | Percentage Tolerence Bounds Pass |\n",
    "| -- | -- | -- | -- | -- | -- |\n",
    "| Blue | | | | |\n",
    "| Red | | | | |\n",
    "| Green | | | | |\n",
    "| Orange | | | | |\n",
    "| Purple | | | | | |\n",
    "\n",
    "\n",
    "### Inclusive Tolerences ###\n",
    "\n",
    "Inclusive tolerences mean that if the length of the part in question is the exactly same length as either the upper or the lower bound then it will pass the quality check.\n",
    "\n",
    "### Median and Interquartile Range ###\n",
    "Please check that you are calculating the right thing\n",
    "- https://en.wikipedia.org/wiki/Median\n",
    "- https://en.wikipedia.org/wiki/Interquartile_range\n",
    "\n",
    "### Don't reinvent the wheel ###\n",
    "There are plenty of python packages (namely numpy and pandas) to help you do this... \n"
   ]
  }
 ],
 "metadata": {
  "kernelspec": {
   "display_name": "Python 3",
   "language": "python",
   "name": "python3"
  },
  "language_info": {
   "codemirror_mode": {
    "name": "ipython",
    "version": 2
   },
   "file_extension": ".py",
   "mimetype": "text/x-python",
   "name": "python",
   "nbconvert_exporter": "python",
   "pygments_lexer": "ipython2",
   "version": "2.7.5"
  }
 },
 "nbformat": 4,
 "nbformat_minor": 2
}
